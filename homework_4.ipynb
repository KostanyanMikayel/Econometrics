{
 "cells": [
  {
   "cell_type": "markdown",
   "id": "023a673b",
   "metadata": {},
   "source": [
    "### 1. declare for loop for numbers in range of your choice and multiply each number by 5\n",
    "### 2. declare list of length 10 and with while loop decrease it each time by 1 element"
   ]
  },
  {
   "cell_type": "code",
   "execution_count": 14,
   "id": "d014ca98",
   "metadata": {},
   "outputs": [
    {
     "name": "stdout",
     "output_type": "stream",
     "text": [
      "[11, 84, 4, 445, 55, 4, 88, 7, 15]\n",
      "[11, 84, 4, 445, 55, 4, 88, 7]\n",
      "[11, 84, 4, 445, 55, 4, 88]\n",
      "[11, 84, 4, 445, 55, 4]\n",
      "[11, 84, 4, 445, 55]\n",
      "[11, 84, 4, 445]\n",
      "[11, 84, 4]\n",
      "[11, 84]\n",
      "[11]\n",
      "[]\n"
     ]
    }
   ],
   "source": [
    "list_1 = [11, 84, 4, 445, 55, 4, 88, 7, 15, 100]\n",
    "n = 0\n",
    "while n < 10:\n",
    "    list_1.pop()\n",
    "    n += 1\n",
    "    print(list_1)"
   ]
  },
  {
   "cell_type": "code",
   "execution_count": 5,
   "id": "0bce1f25",
   "metadata": {},
   "outputs": [
    {
     "name": "stdout",
     "output_type": "stream",
     "text": [
      "0\n",
      "5\n",
      "10\n",
      "15\n",
      "20\n",
      "25\n",
      "30\n",
      "35\n",
      "40\n",
      "45\n",
      "50\n"
     ]
    }
   ],
   "source": [
    "for i in range(11):#First exercise\n",
    "    i *= 5\n",
    "    print(i)"
   ]
  }
 ],
 "metadata": {
  "kernelspec": {
   "display_name": "Python 3 (ipykernel)",
   "language": "python",
   "name": "python3"
  },
  "language_info": {
   "codemirror_mode": {
    "name": "ipython",
    "version": 3
   },
   "file_extension": ".py",
   "mimetype": "text/x-python",
   "name": "python",
   "nbconvert_exporter": "python",
   "pygments_lexer": "ipython3",
   "version": "3.9.7"
  }
 },
 "nbformat": 4,
 "nbformat_minor": 5
}
