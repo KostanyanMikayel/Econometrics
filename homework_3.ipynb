{
 "cells": [
  {
   "cell_type": "markdown",
   "id": "fa27a0d9",
   "metadata": {},
   "source": [
    "list, find the length, find elements between the second element and the 3rd from the end, use append, use remove"
   ]
  },
  {
   "cell_type": "code",
   "execution_count": 1,
   "id": "f96781e3",
   "metadata": {},
   "outputs": [
    {
     "name": "stdout",
     "output_type": "stream",
     "text": [
      "9\n"
     ]
    }
   ],
   "source": [
    "list_1 = [\"dcbj\",\"dcberhj\",\"dcbjgsr\",\"dcgrbj\",\"dcynhbj\",\"dcbimyj\",\"dwrfcbj\",\"dnnujcbj\",\"dergcbj\"]\n",
    "print(len(list_1))"
   ]
  },
  {
   "cell_type": "code",
   "execution_count": 2,
   "id": "ed8f61f0",
   "metadata": {},
   "outputs": [
    {
     "name": "stdout",
     "output_type": "stream",
     "text": [
      "['dcberhj', 'dcbjgsr', 'dcgrbj', 'dcynhbj', 'dcbimyj']\n"
     ]
    }
   ],
   "source": [
    "print(list_1[1:-3])"
   ]
  },
  {
   "cell_type": "code",
   "execution_count": 3,
   "id": "c975f57c",
   "metadata": {},
   "outputs": [],
   "source": [
    "list_1.append(554)"
   ]
  },
  {
   "cell_type": "code",
   "execution_count": 4,
   "id": "6ff6c019",
   "metadata": {},
   "outputs": [],
   "source": [
    "list_1.remove(554)"
   ]
  }
 ],
 "metadata": {
  "kernelspec": {
   "display_name": "Python 3 (ipykernel)",
   "language": "python",
   "name": "python3"
  },
  "language_info": {
   "codemirror_mode": {
    "name": "ipython",
    "version": 3
   },
   "file_extension": ".py",
   "mimetype": "text/x-python",
   "name": "python",
   "nbconvert_exporter": "python",
   "pygments_lexer": "ipython3",
   "version": "3.9.7"
  }
 },
 "nbformat": 4,
 "nbformat_minor": 5
}
